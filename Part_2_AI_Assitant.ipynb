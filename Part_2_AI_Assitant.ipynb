{
  "nbformat": 4,
  "nbformat_minor": 0,
  "metadata": {
    "colab": {
      "provenance": []
    },
    "kernelspec": {
      "name": "python3",
      "display_name": "Python 3"
    },
    "language_info": {
      "name": "python"
    }
  },
  "cells": [
    {
      "cell_type": "code",
      "source": [],
      "metadata": {
        "id": "dUSf11He1wm6"
      },
      "execution_count": 12,
      "outputs": []
    },
    {
      "cell_type": "code",
      "source": [
        "from google.colab import userdata\n",
        "my_gemini_api_key = userdata.get('my_gemini_api_key')"
      ],
      "metadata": {
        "id": "pFjxjSIP-hNL"
      },
      "execution_count": 13,
      "outputs": []
    },
    {
      "cell_type": "code",
      "source": [
        "import pandas as pd\n",
        "import numpy as np\n",
        "from sklearn.model_selection import train_test_split\n",
        "from sklearn.linear_model import LinearRegression\n",
        "import google.generativeai as genai\n",
        "\n",
        "# ==========================\n",
        "# 1. Generate a simulated dataset\n",
        "# ==========================\n",
        "np.random.seed(42)\n",
        "size = np.random.randint(50, 200, 100)          # House size (in m²)\n",
        "bedrooms = np.random.randint(1, 5, 100)         # Number of bedrooms\n",
        "location_score = np.random.randint(1, 10, 100)  # Location score\n",
        "price = size * 3000 + bedrooms * 10000 + location_score * 5000 + np.random.randint(0, 50000, 100)\n",
        "\n",
        "df = pd.DataFrame({\"Size\": size, \"Bedrooms\": bedrooms, \"LocationScore\": location_score, \"Price\": price})\n",
        "print(\"Dataset sample:\")\n",
        "print(df.head())\n",
        "\n",
        "# New data point for prediction\n",
        "new_data = {\"Size\": 120, \"Bedrooms\": 3, \"LocationScore\": 8}\n",
        "\n",
        "# ==========================\n",
        "# 2. Use Google Gemini to generate prediction logic\n",
        "# ==========================\n",
        "genai.configure(api_key=f\"{my_gemini_api_key}\")\n",
        "\n",
        "prompt = f\"\"\"\n",
        "Here is a housing price prediction dataset (in JSON format):\n",
        "{df.to_json(orient=\"records\", force_ascii=False)}\n",
        "\n",
        "Please generate Python code that:\n",
        "- Uses sklearn's LinearRegression to train a model\n",
        "- Features: Size, Bedrooms, LocationScore\n",
        "- Target variable: Price\n",
        "- Splits the dataset into train and test sets (80/20 split)\n",
        "- Trains the model and predicts for the following new house: {new_data}\n",
        "- Finally, print the predicted price\n",
        "Only output Python code. Do not include any explanation.\n",
        "\"\"\"\n",
        "\n",
        "model = genai.GenerativeModel(\"gemini-2.0-flash\")\n",
        "response = model.generate_content(\n",
        "    contents=[{\"role\": \"user\", \"parts\": [prompt]}]\n",
        ")\n",
        "\n",
        "# Clean up the code\n",
        "raw_code = response.text.strip()\n",
        "if raw_code.startswith(\"```\"):\n",
        "    raw_code = raw_code.replace(\"```python\", \"\").replace(\"```\", \"\").strip()\n",
        "\n",
        "print(\"\\n=== AI-Generated Cleaned Code ===\\n\")\n",
        "print(raw_code)\n",
        "\n",
        "# Execute the cleaned code (verify before running)\n",
        "exec(raw_code)\n"
      ],
      "metadata": {
        "colab": {
          "base_uri": "https://localhost:8080/",
          "height": 627
        },
        "id": "Sa2E3GbrAky_",
        "outputId": "78b16029-a475-46a4-bcfb-72772488888e"
      },
      "execution_count": 14,
      "outputs": [
        {
          "output_type": "stream",
          "name": "stdout",
          "text": [
            "Dataset sample:\n",
            "   Size  Bedrooms  LocationScore   Price\n",
            "0   152         2              4  519328\n",
            "1   142         3              1  486876\n",
            "2    64         3              1  248295\n",
            "3   156         1              4  501987\n",
            "4   121         3              7  450399\n",
            "\n",
            "=== AI-Generated Cleaned Code ===\n",
            "\n",
            "import json\n",
            "from sklearn.model_selection import train_test_split\n",
            "from sklearn.linear_model import LinearRegression\n",
            "import numpy as np\n",
            "\n",
            "data = [{\"Size\":152,\"Bedrooms\":2,\"LocationScore\":4,\"Price\":519328},{\"Size\":142,\"Bedrooms\":3,\"LocationScore\":1,\"Price\":486876},{\"Size\":64,\"Bedrooms\":3,\"LocationScore\":1,\"Price\":248295},{\"Size\":156,\"Bedrooms\":1,\"LocationScore\":4,\"Price\":501987},{\"Size\":121,\"Bedrooms\":3,\"LocationScore\":7,\"Price\":450399},{\"Size\":70,\"Bedrooms\":1,\"LocationScore\":2,\"Price\":276214},{\"Size\":152,\"Bedrooms\":3,\"LocationScore\":3,\"Price\":534986},{\"Size\":171,\"Bedrooms\":2,\"LocationScore\":1,\"Price\":558880},{\"Size\":124,\"Bedrooms\":3,\"LocationScore\":5,\"Price\":431735},{\"Size\":137,\"Bedrooms\":1,\"LocationScore\":1,\"Price\":470064},{\"Size\":166,\"Bedrooms\":1,\"LocationScore\":8,\"Price\":552555},{\"Size\":149,\"Bedrooms\":2,\"LocationScore\":1,\"Price\":513914},{\"Size\":153,\"Bedrooms\":3,\"LocationScore\":1,\"Price\":534818},{\"Size\":180,\"Bedrooms\":3,\"LocationScore\":2,\"Price\":625525},{\"Size\":199,\"Bedrooms\":2,\"LocationScore\":2,\"Price\":646830},{\"Size\":102,\"Bedrooms\":3,\"LocationScore\":6,\"Price\":383429},{\"Size\":51,\"Bedrooms\":3,\"LocationScore\":7,\"Price\":224893},{\"Size\":137,\"Bedrooms\":1,\"LocationScore\":5,\"Price\":460373},{\"Size\":87,\"Bedrooms\":3,\"LocationScore\":1,\"Price\":343333},{\"Size\":179,\"Bedrooms\":3,\"LocationScore\":1,\"Price\":575436},{\"Size\":70,\"Bedrooms\":2,\"LocationScore\":3,\"Price\":253754},{\"Size\":107,\"Bedrooms\":2,\"LocationScore\":2,\"Price\":361677},{\"Size\":71,\"Bedrooms\":4,\"LocationScore\":5,\"Price\":283895},{\"Size\":138,\"Bedrooms\":1,\"LocationScore\":6,\"Price\":473738},{\"Size\":98,\"Bedrooms\":3,\"LocationScore\":7,\"Price\":389746},{\"Size\":108,\"Bedrooms\":3,\"LocationScore\":4,\"Price\":423377},{\"Size\":64,\"Bedrooms\":4,\"LocationScore\":7,\"Price\":315404},{\"Size\":100,\"Bedrooms\":3,\"LocationScore\":8,\"Price\":402352},{\"Size\":157,\"Bedrooms\":1,\"LocationScore\":1,\"Price\":525790},{\"Size\":104,\"Bedrooms\":4,\"LocationScore\":6,\"Price\":423919},{\"Size\":113,\"Bedrooms\":1,\"LocationScore\":8,\"Price\":394600},{\"Size\":180,\"Bedrooms\":4,\"LocationScore\":5,\"Price\":634124},{\"Size\":100,\"Bedrooms\":4,\"LocationScore\":4,\"Price\":387643},{\"Size\":184,\"Bedrooms\":2,\"LocationScore\":2,\"Price\":622764},{\"Size\":70,\"Bedrooms\":1,\"LocationScore\":6,\"Price\":259007},{\"Size\":122,\"Bedrooms\":3,\"LocationScore\":6,\"Price\":471714},{\"Size\":67,\"Bedrooms\":3,\"LocationScore\":1,\"Price\":273410},{\"Size\":181,\"Bedrooms\":1,\"LocationScore\":9,\"Price\":642080},{\"Size\":138,\"Bedrooms\":3,\"LocationScore\":6,\"Price\":514447},{\"Size\":109,\"Bedrooms\":3,\"LocationScore\":3,\"Price\":380208},{\"Size\":63,\"Bedrooms\":1,\"LocationScore\":4,\"Price\":237589},{\"Size\":58,\"Bedrooms\":4,\"LocationScore\":4,\"Price\":277484},{\"Size\":139,\"Bedrooms\":1,\"LocationScore\":3,\"Price\":459453},{\"Size\":102,\"Bedrooms\":4,\"LocationScore\":3,\"Price\":397212},{\"Size\":179,\"Bedrooms\":3,\"LocationScore\":3,\"Price\":625525},{\"Size\":133,\"Bedrooms\":3,\"LocationScore\":4,\"Price\":496202},{\"Size\":141,\"Bedrooms\":3,\"LocationScore\":7,\"Price\":520635},{\"Size\":160,\"Bedrooms\":2,\"LocationScore\":4,\"Price\":553828},{\"Size\":57,\"Bedrooms\":4,\"LocationScore\":9,\"Price\":274711},{\"Size\":84,\"Bedrooms\":2,\"LocationScore\":1,\"Price\":280420},{\"Size\":130,\"Bedrooms\":2,\"LocationScore\":8,\"Price\":481216},{\"Size\":99,\"Bedrooms\":1,\"LocationScore\":7,\"Price\":342301},{\"Size\":153,\"Bedrooms\":2,\"LocationScore\":2,\"Price\":534236},{\"Size\":181,\"Bedrooms\":1,\"LocationScore\":8,\"Price\":642758},{\"Size\":51,\"Bedrooms\":1,\"LocationScore\":1,\"Price\":168699},{\"Size\":183,\"Bedrooms\":2,\"LocationScore\":9,\"Price\":614190},{\"Size\":103,\"Bedrooms\":4,\"LocationScore\":9,\"Price\":404492},{\"Size\":155,\"Bedrooms\":4,\"LocationScore\":2,\"Price\":550743},{\"Size\":53,\"Bedrooms\":4,\"LocationScore\":7,\"Price\":240102},{\"Size\":103,\"Bedrooms\":4,\"LocationScore\":3,\"Price\":383778},{\"Size\":195,\"Bedrooms\":4,\"LocationScore\":7,\"Price\":686641},{\"Size\":93,\"Bedrooms\":2,\"LocationScore\":9,\"Price\":378584},{\"Size\":63,\"Bedrooms\":2,\"LocationScore\":4,\"Price\":261745},{\"Size\":144,\"Bedrooms\":3,\"LocationScore\":1,\"Price\":490093},{\"Size\":97,\"Bedrooms\":4,\"LocationScore\":2,\"Price\":341569},{\"Size\":64,\"Bedrooms\":2,\"LocationScore\":1,\"Price\":255210},{\"Size\":89,\"Bedrooms\":3,\"LocationScore\":5,\"Price\":356663},{\"Size\":131,\"Bedrooms\":4,\"LocationScore\":5,\"Price\":494631},{\"Size\":160,\"Bedrooms\":1,\"LocationScore\":7,\"Price\":570681},{\"Size\":102,\"Bedrooms\":3,\"LocationScore\":9,\"Price\":388455},{\"Size\":73,\"Bedrooms\":2,\"LocationScore\":9,\"Price\":288014},{\"Size\":173,\"Bedrooms\":1,\"LocationScore\":3,\"Price\":555093},{\"Size\":90,\"Bedrooms\":1,\"LocationScore\":3,\"Price\":313070},{\"Size\":64,\"Bedrooms\":1,\"LocationScore\":3,\"Price\":252777},{\"Size\":94,\"Bedrooms\":3,\"LocationScore\":4,\"Price\":348538},{\"Size\":114,\"Bedrooms\":2,\"LocationScore\":8,\"Price\":412729},{\"Size\":138,\"Bedrooms\":1,\"LocationScore\":6,\"Price\":488177},{\"Size\":120,\"Bedrooms\":4,\"LocationScore\":8,\"Price\":485017},{\"Size\":58,\"Bedrooms\":1,\"LocationScore\":1,\"Price\":189784},{\"Size\":137,\"Bedrooms\":1,\"LocationScore\":8,\"Price\":488751},{\"Size\":178,\"Bedrooms\":3,\"LocationScore\":4,\"Price\":624864},{\"Size\":185,\"Bedrooms\":3,\"LocationScore\":1,\"Price\":630328},{\"Size\":112,\"Bedrooms\":2,\"LocationScore\":8,\"Price\":408533},{\"Size\":188,\"Bedrooms\":4,\"LocationScore\":4,\"Price\":664111},{\"Size\":130,\"Bedrooms\":3,\"LocationScore\":6,\"Price\":489974},{\"Size\":185,\"Bedrooms\":1,\"LocationScore\":8,\"Price\":610801},{\"Size\":82,\"Bedrooms\":2,\"LocationScore\":4,\"Price\":305190},{\"Size\":172,\"Bedrooms\":1,\"LocationScore\":3,\"Price\":590689},{\"Size\":54,\"Bedrooms\":1,\"LocationScore\":9,\"Price\":255754},{\"Size\":90,\"Bedrooms\":3,\"LocationScore\":3,\"Price\":344592},{\"Size\":77,\"Bedrooms\":2,\"LocationScore\":9,\"Price\":306647},{\"Size\":184,\"Bedrooms\":4,\"LocationScore\":2,\"Price\":610716},{\"Size\":121,\"Bedrooms\":4,\"LocationScore\":2,\"Price\":436355},{\"Size\":61,\"Bedrooms\":3,\"LocationScore\":2,\"Price\":245009},{\"Size\":82,\"Bedrooms\":3,\"LocationScore\":6,\"Price\":330376},{\"Size\":97,\"Bedrooms\":2,\"LocationScore\":3,\"Price\":371091},{\"Size\":111,\"Bedrooms\":4,\"LocationScore\":9,\"Price\":422780},{\"Size\":86,\"Bedrooms\":4,\"LocationScore\":4,\"Price\":320368},{\"Size\":148,\"Bedrooms\":4,\"LocationScore\":1,\"Price\":501039},{\"Size\":153,\"Bedrooms\":1,\"LocationScore\":4,\"Price\":495655}]\n",
            "\n",
            "features = ['Size', 'Bedrooms', 'LocationScore']\n",
            "target = 'Price'\n",
            "\n",
            "X = np.array([[d[feature] for feature in features] for d in data])\n",
            "y = np.array([d[target] for d in data])\n",
            "\n",
            "X_train, X_test, y_train, y_test = train_test_split(X, y, test_size=0.2, random_state=42)\n",
            "\n",
            "model = LinearRegression()\n",
            "model.fit(X_train, y_train)\n",
            "\n",
            "new_house = {'Size': 120, 'Bedrooms': 3, 'LocationScore': 8}\n",
            "new_house_features = np.array([new_house['Size'], new_house['Bedrooms'], new_house['LocationScore']]).reshape(1, -1)\n",
            "\n",
            "predicted_price = model.predict(new_house_features)[0]\n",
            "print(predicted_price)\n",
            "453667.2364030395\n"
          ]
        }
      ]
    },
    {
      "cell_type": "code",
      "source": [
        "# api_key"
      ],
      "metadata": {
        "id": "U3XxMoyfvjTQ"
      },
      "execution_count": 15,
      "outputs": []
    }
  ]
}